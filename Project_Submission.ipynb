{
 "cells": [
  {
   "cell_type": "code",
   "execution_count": 6,
   "id": "a7588285-d190-4dbf-ad38-4a2cb459b089",
   "metadata": {},
   "outputs": [
    {
     "name": "stdout",
     "output_type": "stream",
     "text": [
      "Inventory loaded!\n",
      "\n",
      "Hello! This is Bookstore Inventory Management.\n",
      "\n",
      "Menu:\n",
      "1. Add Book\n",
      "2. View Books\n",
      "3. Update Book\n",
      "4. Delete Book\n",
      "5. Save and Exit\n"
     ]
    },
    {
     "name": "stdin",
     "output_type": "stream",
     "text": [
      "Please enter your choice:  2\n"
     ]
    },
    {
     "name": "stdout",
     "output_type": "stream",
     "text": [
      "1. Title: Bela Furabar Agee, Author: Arif Azad, Price: 250.00 Taka\n",
      "2. Title: Hayater Din Furale, Author: Arif Azad, Price: 230.00 Taka\n",
      "3. Title: Sesher Oshru, Author: Daud Ibnu Solaiman Ubaidi, Price: 100.00 Taka\n",
      "4. Title: Ma Ma Ma and Baba, Author: Arif Azad, Price: 200.00 Taka\n",
      "5. Title: Pother Pachali, Author: Manik BondhoPadday, Price: 320.00 Taka\n",
      "\n",
      "Menu:\n",
      "1. Add Book\n",
      "2. View Books\n",
      "3. Update Book\n",
      "4. Delete Book\n",
      "5. Save and Exit\n"
     ]
    },
    {
     "name": "stdin",
     "output_type": "stream",
     "text": [
      "Please enter your choice:  1\n",
      "Title:  জীবন যেখানে যেমন\n",
      "Author:  আরিফ আজাদ\n",
      "Price:  150\n"
     ]
    },
    {
     "name": "stdout",
     "output_type": "stream",
     "text": [
      "Book 'জীবন যেখানে যেমন' added successfully.\n",
      "\n",
      "Menu:\n",
      "1. Add Book\n",
      "2. View Books\n",
      "3. Update Book\n",
      "4. Delete Book\n",
      "5. Save and Exit\n"
     ]
    },
    {
     "name": "stdin",
     "output_type": "stream",
     "text": [
      "Please enter your choice:  2\n"
     ]
    },
    {
     "name": "stdout",
     "output_type": "stream",
     "text": [
      "1. Title: Bela Furabar Agee, Author: Arif Azad, Price: 250.00 Taka\n",
      "2. Title: Hayater Din Furale, Author: Arif Azad, Price: 230.00 Taka\n",
      "3. Title: Sesher Oshru, Author: Daud Ibnu Solaiman Ubaidi, Price: 100.00 Taka\n",
      "4. Title: Ma Ma Ma and Baba, Author: Arif Azad, Price: 200.00 Taka\n",
      "5. Title: Pother Pachali, Author: Manik BondhoPadday, Price: 320.00 Taka\n",
      "6. Title: জীবন যেখানে যেমন, Author: আরিফ আজাদ, Price: 150.00 Taka\n",
      "\n",
      "Menu:\n",
      "1. Add Book\n",
      "2. View Books\n",
      "3. Update Book\n",
      "4. Delete Book\n",
      "5. Save and Exit\n"
     ]
    },
    {
     "name": "stdin",
     "output_type": "stream",
     "text": [
      "Please enter your choice:  5\n"
     ]
    },
    {
     "name": "stdout",
     "output_type": "stream",
     "text": [
      "Inventory saved successfully.\n",
      "Goodbye!\n"
     ]
    }
   ],
   "source": [
    "import os  # For file existence check\n",
    "\n",
    "\n",
    "class Book:\n",
    "    def __init__(self, title, author, price):\n",
    "        self.title = title\n",
    "        self.author = author\n",
    "        self.price = float(price)\n",
    "\n",
    "    def __str__(self):\n",
    "        return (f\"Title: {self.title}, Author: {self.author}, Price: {self.price:.2f} Taka\")   #Display Book details\n",
    "\n",
    "\n",
    "class Inventory:\n",
    "    def __init__(self):\n",
    "        self.books = []\n",
    "        self.filename = \"inventory.txt\"\n",
    "        self.load_inventory()\n",
    "\n",
    "    def add_book(self, title, author, price):\n",
    "        self.books.append(Book(title, author, price))\n",
    "        print(f\"Book '{title}' added successfully.\")\n",
    "\n",
    "    def view_books(self):\n",
    "        if not self.books:\n",
    "            print(\"No books in the inventory.\")\n",
    "        else:\n",
    "            for index, book in enumerate(self.books, start=1):\n",
    "                print(f\"{index}. {book}\")\n",
    "\n",
    "    def update_book(self, index, title, author, price):\n",
    "        try:\n",
    "            self.books[index - 1] = Book(title, author, price)\n",
    "            print(\"Book updated successfully.\")\n",
    "        except IndexError:\n",
    "            print(\"Invalid book number! Please choose a correct number.\")\n",
    "\n",
    "    def delete_book(self, index):\n",
    "        try:\n",
    "            self.books.pop(index - 1)\n",
    "            print(\"Book deleted successfully.\")\n",
    "        except IndexError:\n",
    "            print(\"Invalid book number!\")\n",
    "\n",
    "    def save_inventory(self):\n",
    "        with open(self.filename, \"w\", encoding=\"utf-8\") as file:\n",
    "            for book in self.books:\n",
    "                file.write(f\"{book.title},{book.author},{book.price}\\n\")\n",
    "        print(\"Inventory saved successfully.\")\n",
    "\n",
    "    def load_inventory(self):\n",
    "        if os.path.exists(self.filename):   # Check if the file exists\n",
    "            with open(self.filename, \"r\", encoding=\"utf-8\") as file:\n",
    "                for line in file:\n",
    "                    title, author, price = line.strip().split(\",\")\n",
    "                    self.books.append(Book(title, author, float(price)))\n",
    "            print(\"Inventory loaded!\")\n",
    "        else:\n",
    "            print(\"No existing inventory file found. Starting fresh.\")\n",
    "\n",
    "\n",
    "inventory = Inventory()\n",
    "\n",
    "print(\"\\nHello! This is Bookstore Inventory Management.\")\n",
    "\n",
    "while True:\n",
    "    print(\"\\nMenu:\")\n",
    "    print(\"1. Add Book\")\n",
    "    print(\"2. View Books\")\n",
    "    print(\"3. Update Book\")\n",
    "    print(\"4. Delete Book\")\n",
    "    print(\"5. Save and Exit\")\n",
    "    choice = input(\"Please enter your choice: \")\n",
    "\n",
    "    if choice == \"1\":\n",
    "        title = input(\"Title: \")\n",
    "        author = input(\"Author: \")\n",
    "        price = input(\"Price: \")\n",
    "        inventory.add_book(title, author, price)\n",
    "\n",
    "    elif choice == \"2\":\n",
    "        inventory.view_books()\n",
    "\n",
    "    elif choice == \"3\":\n",
    "        inventory.view_books()\n",
    "        index = int(input(\"Enter book number to update: \"))\n",
    "        if 1 <= index <= len(inventory.books):             # Check the book number first\n",
    "            title = input(\"New title: \")\n",
    "            author = input(\"New author: \")\n",
    "            price = input(\"New price: \")\n",
    "            inventory.update_book(index, title, author, price)\n",
    "        else:\n",
    "            print(\"Invalid book number! Please choose a correct number.\")\n",
    "\n",
    "    elif choice == \"4\":\n",
    "        inventory.view_books()\n",
    "        index = int(input(\"Enter book number to delete: \"))\n",
    "        inventory.delete_book(index)\n",
    "\n",
    "    elif choice == \"5\":\n",
    "        inventory.save_inventory()\n",
    "        print(\"Goodbye!\")\n",
    "        break\n",
    "\n",
    "    else:\n",
    "        print(\"Invalid choice. Please try again.\")"
   ]
  },
  {
   "cell_type": "code",
   "execution_count": null,
   "id": "810b8df2-37e0-4274-9f5f-ed52690be337",
   "metadata": {},
   "outputs": [],
   "source": []
  }
 ],
 "metadata": {
  "kernelspec": {
   "display_name": "Python 3 (ipykernel)",
   "language": "python",
   "name": "python3"
  },
  "language_info": {
   "codemirror_mode": {
    "name": "ipython",
    "version": 3
   },
   "file_extension": ".py",
   "mimetype": "text/x-python",
   "name": "python",
   "nbconvert_exporter": "python",
   "pygments_lexer": "ipython3",
   "version": "3.12.7"
  }
 },
 "nbformat": 4,
 "nbformat_minor": 5
}
