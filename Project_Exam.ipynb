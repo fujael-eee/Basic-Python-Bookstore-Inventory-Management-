{
  "nbformat": 4,
  "nbformat_minor": 0,
  "metadata": {
    "colab": {
      "provenance": []
    },
    "kernelspec": {
      "name": "python3",
      "display_name": "Python 3"
    },
    "language_info": {
      "name": "python"
    }
  },
  "cells": [
    {
      "cell_type": "code",
      "source": [
        "import os\n",
        "\n",
        "class book:\n",
        "   def _init_(self, title, author, price):\n",
        "        self.title = title\n",
        "        self.author = author\n",
        "        self.price = price\n",
        "\n",
        "   def _str_(self):\n",
        "    return f\"Title: {self.title}, Author: {self.author}, Price: {self.price:.2f} Taka\"\n",
        "\n",
        "class Inventory:\n",
        "    def _init_(self, file_name=\"inventory.txt\"):\n",
        "        self.books = []\n",
        "        self.file_name = file_name\n",
        "        self.load_inventory()\n",
        "\n",
        "    def add_book(self, title, author, price):\n",
        "        self.books.append(Book(title, author, price))\n",
        "        print(f\"Book '{title}' added!\")\n",
        "\n",
        "    def view_books(self):\n",
        "        if not self.books:\n",
        "            print(\"No books in inventory.\")\n",
        "        else:\n",
        "            for idx, book in enumerate(self.books, start=1):\n",
        "                print(f\"{idx}. {book}\")"
      ],
      "metadata": {
        "id": "vIQykKUaJQu0"
      },
      "execution_count": 5,
      "outputs": []
    },
    {
      "cell_type": "code",
      "source": [],
      "metadata": {
        "id": "7vl17NG-UrJ9"
      },
      "execution_count": null,
      "outputs": []
    }
  ]
}